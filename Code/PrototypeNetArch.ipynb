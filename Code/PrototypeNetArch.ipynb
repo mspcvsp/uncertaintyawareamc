{
 "cells": [
  {
   "cell_type": "code",
   "execution_count": 1,
   "id": "62761cc1-ffe9-4f31-b527-3d86426d124c",
   "metadata": {},
   "outputs": [],
   "source": [
    "%load_ext autoreload\n",
    "%autoreload 2"
   ]
  },
  {
   "cell_type": "code",
   "execution_count": 2,
   "id": "577349a0-5258-4a1f-b26c-2fe451cd11a6",
   "metadata": {},
   "outputs": [],
   "source": [
    "import torch.nn as nn\n",
    "import torch\n",
    "from bayesian_nnet.data import IQDataModel"
   ]
  },
  {
   "cell_type": "code",
   "execution_count": 3,
   "id": "e67a4844-f5c4-45f3-b7f4-b28569ef0cfd",
   "metadata": {},
   "outputs": [],
   "source": [
    "iqdata = IQDataModel()\n",
    "iqdata.setup(stage=\"\")\n",
    "dl = iqdata.train_dataloader()\n",
    "batch, _, _ = dl.__iter__().__next__()\n",
    "batch = batch[:10, :, :]"
   ]
  },
  {
   "cell_type": "code",
   "execution_count": 8,
   "id": "bf5a2a1a-0705-4d2e-938b-f7330e17fe6a",
   "metadata": {},
   "outputs": [],
   "source": [
    "\"\"\"\n",
    "Layer #1\n",
    "---------\n",
    "conv 3, 64\n",
    "ReLU\n",
    "max pool / 2\n",
    "\"\"\"\n",
    "conv1 =\\\n",
    "    nn.Sequential(\n",
    "        nn.Conv1d(in_channels=2,\n",
    "                  out_channels=128,\n",
    "                  kernel_size=3,\n",
    "                  padding=1),\n",
    "        nn.BatchNorm1d(64),\n",
    "        nn.ReLU(),\n",
    "        nn.MaxPool1d(kernel_size=3,\n",
    "                     stride=2,\n",
    "                     padding=1))\n",
    "\n",
    "\"\"\"\n",
    "Layer #2\n",
    "---------\n",
    "conv 3, 64\n",
    "ReLU\n",
    "max pool / 2\n",
    "\"\"\"\n",
    "conv2 =\\\n",
    "    nn.Sequential(\n",
    "        nn.Conv1d(in_channels=64,\n",
    "                  out_channels=64,\n",
    "                  kernel_size=3,\n",
    "                  padding=1),\n",
    "        nn.BatchNorm1d(64),\n",
    "        nn.ReLU(),\n",
    "        nn.MaxPool1d(kernel_size=3,\n",
    "                     stride=2,\n",
    "                     padding=1))\n",
    "\n",
    "\"\"\"\n",
    "Layer #3\n",
    "---------\n",
    "conv 3, 128\n",
    "ReLU\n",
    "max pool / 2\n",
    "\"\"\"\n",
    "conv3 =\\\n",
    "    nn.Sequential(\n",
    "        nn.Conv1d(in_channels=64,\n",
    "                  out_channels=128,\n",
    "                  kernel_size=3,\n",
    "                  padding=1),\n",
    "        nn.BatchNorm1d(128),\n",
    "        nn.ReLU(),\n",
    "        nn.MaxPool1d(kernel_size=3,\n",
    "                     stride=2,\n",
    "                     padding=1))\n",
    "\n",
    "\"\"\"\n",
    "Layer #4\n",
    "---------\n",
    "conv 3, 128\n",
    "ReLU\n",
    "max pool / 2\n",
    "\"\"\"\n",
    "conv4 =\\\n",
    "    nn.Sequential(\n",
    "        nn.Conv1d(in_channels=128,\n",
    "                  out_channels=128,\n",
    "                  kernel_size=3,\n",
    "                  padding=1),\n",
    "        nn.BatchNorm1d(128),\n",
    "        nn.ReLU(),\n",
    "        nn.MaxPool1d(kernel_size=3,\n",
    "                     stride=2,\n",
    "                     padding=1))\n",
    "\n",
    "lstm = nn.LSTM(128,\n",
    "               64,\n",
    "               num_layers=2,\n",
    "               batch_first=True)"
   ]
  },
  {
   "cell_type": "code",
   "execution_count": 14,
   "id": "eddbddc3-e1d4-4e1f-a52f-f934d4612129",
   "metadata": {},
   "outputs": [
    {
     "name": "stdout",
     "output_type": "stream",
     "text": [
      "torch.Size([10, 64, 1024])\n",
      "torch.Size([10, 64, 512])\n",
      "torch.Size([10, 128, 256])\n",
      "torch.Size([10, 128, 128])\n",
      "torch.Size([10, 64, 128])\n",
      "torch.Size([10, 8192])\n"
     ]
    }
   ],
   "source": [
    "layer_out = conv1(batch)\n",
    "print(layer_out.shape)\n",
    "layer_out = conv2(layer_out)\n",
    "print(layer_out.shape)\n",
    "layer_out = conv3(layer_out)\n",
    "print(layer_out.shape)\n",
    "layer_out = conv4(layer_out)\n",
    "print(layer_out.shape)\n",
    "layer_out = torch.permute(layer_out, (0, 2, 1))\n",
    "layer_out, _ = lstm(layer_out)\n",
    "layer_out = torch.permute(layer_out, (0, 2, 1))\n",
    "print(layer_out.shape)\n",
    "layer_out = torch.flatten(layer_out, start_dim=1)\n",
    "print(layer_out.shape)"
   ]
  },
  {
   "cell_type": "code",
   "execution_count": 21,
   "id": "2481e2ab-4cf9-41cf-ad90-ed6a9e8e4500",
   "metadata": {},
   "outputs": [
    {
     "data": {
      "text/plain": [
       "torch.Size([10, 18])"
      ]
     },
     "execution_count": 21,
     "metadata": {},
     "output_type": "execute_result"
    }
   ],
   "source": [
    "fc_layers =\\\n",
    "    nn.Sequential(nn.Linear(8192, 2048),\n",
    "                  nn.Dropout(0.5),\n",
    "                  nn.BatchNorm1d(2048),\n",
    "                  nn.ReLU(),\n",
    "                  nn.Linear(2048, 512),\n",
    "                  nn.Dropout(0.5),\n",
    "                  nn.BatchNorm1d(512),\n",
    "                  nn.ReLU(),\n",
    "                  nn.Linear(512, 18))\n",
    "\n",
    "fc_layers(layer_out).shape"
   ]
  },
  {
   "cell_type": "code",
   "execution_count": 17,
   "id": "9d0fd053-4b20-411b-a997-d4af62e16945",
   "metadata": {},
   "outputs": [],
   "source": [
    "from bayesian_nnet.network import IQDataEmbedder, FrequentistClassifier"
   ]
  },
  {
   "cell_type": "code",
   "execution_count": 20,
   "id": "1176e879-d08a-4d4f-834c-46f214f9bc8e",
   "metadata": {},
   "outputs": [
    {
     "name": "stdout",
     "output_type": "stream",
     "text": [
      "torch.Size([10, 8192])\n"
     ]
    },
    {
     "data": {
      "text/plain": [
       "torch.Size([10, 18])"
      ]
     },
     "execution_count": 20,
     "metadata": {},
     "output_type": "execute_result"
    }
   ],
   "source": [
    "iq_embed = IQDataEmbedder()\n",
    "mod_clf = FrequentistClassifier()\n",
    "layer_out = iq_embed(batch)\n",
    "print(layer_out.shape)\n",
    "mod_clf(layer_out).shape"
   ]
  },
  {
   "cell_type": "code",
   "execution_count": null,
   "id": "bb0c843a-dfc0-4525-be20-af174080fb36",
   "metadata": {},
   "outputs": [],
   "source": []
  }
 ],
 "metadata": {
  "kernelspec": {
   "display_name": "Python 3 (ipykernel)",
   "language": "python",
   "name": "python3"
  },
  "language_info": {
   "codemirror_mode": {
    "name": "ipython",
    "version": 3
   },
   "file_extension": ".py",
   "mimetype": "text/x-python",
   "name": "python",
   "nbconvert_exporter": "python",
   "pygments_lexer": "ipython3",
   "version": "3.12.9"
  }
 },
 "nbformat": 4,
 "nbformat_minor": 5
}
