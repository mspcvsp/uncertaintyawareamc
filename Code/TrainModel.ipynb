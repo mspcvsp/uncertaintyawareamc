{
 "cells": [
  {
   "cell_type": "code",
   "execution_count": 1,
   "id": "8ac6856a-0499-4dba-8f15-79d1cfc15631",
   "metadata": {},
   "outputs": [],
   "source": [
    "%load_ext autoreload\n",
    "%autoreload 2"
   ]
  },
  {
   "cell_type": "code",
   "execution_count": 2,
   "id": "70283d42-3853-4561-8acf-94aeea037a94",
   "metadata": {},
   "outputs": [],
   "source": [
    "import torch.nn as nn\n",
    "import torch\n",
    "import pytorch_lightning as pl\n",
    "from bayesian_nnet.net_utils import initialize_pl_trainer\n",
    "from bayesian_nnet.data import IQDataModel\n",
    "from bayesian_nnet.network import AutoModClassifier\n",
    "from bayesian_nnet.data import initialize_data_splits"
   ]
  },
  {
   "cell_type": "markdown",
   "id": "05bc68ee-1c71-42fa-a728-98bb64332ea0",
   "metadata": {},
   "source": [
    "### Initialize data split indexing"
   ]
  },
  {
   "cell_type": "code",
   "execution_count": 3,
   "id": "93cc2cd4-d93e-401b-a7e0-3f4656b28a2e",
   "metadata": {},
   "outputs": [],
   "source": [
    "out_of_distrib_modes = [\"lsb\",\n",
    "                        \"usb\"]\n",
    "\n",
    "initialize_data_splits(out_of_distrib_modes)"
   ]
  },
  {
   "cell_type": "code",
   "execution_count": null,
   "id": "e9036fa0-9761-4d45-8832-ec7ef2728ff0",
   "metadata": {},
   "outputs": [
    {
     "name": "stderr",
     "output_type": "stream",
     "text": [
      "GPU available: True (cuda), used: True\n",
      "TPU available: False, using: 0 TPU cores\n",
      "HPU available: False, using: 0 HPUs\n",
      "/home/mspcvsp/anaconda3/envs/algdev/lib/python3.12/site-packages/pytorch_lightning/callbacks/model_checkpoint.py:654: Checkpoint directory /home/mspcvsp/panoradio_hf/ModelCheckpoints/frequentist_net exists and is not empty.\n",
      "LOCAL_RANK: 0 - CUDA_VISIBLE_DEVICES: [0]\n",
      "\n",
      "  | Name           | Type                  | Params | Mode \n",
      "-----------------------------------------------------------------\n",
      "0 | iq_embed       | IQDataEmbedder        | 170 K  | train\n",
      "1 | modclf         | FrequentistClassifier | 17.8 M | train\n",
      "2 | loss           | CrossEntropyLoss      | 0      | train\n",
      "3 | train_accuracy | MulticlassAccuracy    | 0      | train\n",
      "4 | val_accuracy   | MulticlassAccuracy    | 0      | train\n",
      "5 | test_accuracy  | MulticlassAccuracy    | 0      | train\n",
      "6 | softmax        | Softmax               | 0      | train\n",
      "-----------------------------------------------------------------\n",
      "18.0 M    Trainable params\n",
      "0         Non-trainable params\n",
      "18.0 M    Total params\n",
      "72.053    Total estimated model params size (MB)\n",
      "38        Modules in train mode\n",
      "0         Modules in eval mode\n"
     ]
    },
    {
     "data": {
      "application/vnd.jupyter.widget-view+json": {
       "model_id": "5aebf5b7094c4742abc2f4cfc653069f",
       "version_major": 2,
       "version_minor": 0
      },
      "text/plain": [
       "Sanity Checking: |                                                                                   | 0/? [00…"
      ]
     },
     "metadata": {},
     "output_type": "display_data"
    },
    {
     "data": {
      "application/vnd.jupyter.widget-view+json": {
       "model_id": "1e19fa460503495daef36f8863035345",
       "version_major": 2,
       "version_minor": 0
      },
      "text/plain": [
       "Training: |                                                                                          | 0/? [00…"
      ]
     },
     "metadata": {},
     "output_type": "display_data"
    },
    {
     "data": {
      "application/vnd.jupyter.widget-view+json": {
       "model_id": "b47b109907844930a736901796421141",
       "version_major": 2,
       "version_minor": 0
      },
      "text/plain": [
       "Validation: |                                                                                        | 0/? [00…"
      ]
     },
     "metadata": {},
     "output_type": "display_data"
    },
    {
     "data": {
      "application/vnd.jupyter.widget-view+json": {
       "model_id": "54b44c6bec164fb8b71efde281e58aea",
       "version_major": 2,
       "version_minor": 0
      },
      "text/plain": [
       "Validation: |                                                                                        | 0/? [00…"
      ]
     },
     "metadata": {},
     "output_type": "display_data"
    },
    {
     "data": {
      "application/vnd.jupyter.widget-view+json": {
       "model_id": "b197c747c1e14665822778b5a7a6bdcc",
       "version_major": 2,
       "version_minor": 0
      },
      "text/plain": [
       "Validation: |                                                                                        | 0/? [00…"
      ]
     },
     "metadata": {},
     "output_type": "display_data"
    },
    {
     "data": {
      "application/vnd.jupyter.widget-view+json": {
       "model_id": "1d19834b6c9e4982a9471a2a9b411262",
       "version_major": 2,
       "version_minor": 0
      },
      "text/plain": [
       "Validation: |                                                                                        | 0/? [00…"
      ]
     },
     "metadata": {},
     "output_type": "display_data"
    },
    {
     "data": {
      "application/vnd.jupyter.widget-view+json": {
       "model_id": "dda1d29de2f441bdb4bb86685625bc5b",
       "version_major": 2,
       "version_minor": 0
      },
      "text/plain": [
       "Validation: |                                                                                        | 0/? [00…"
      ]
     },
     "metadata": {},
     "output_type": "display_data"
    },
    {
     "data": {
      "application/vnd.jupyter.widget-view+json": {
       "model_id": "c11c8f9120764e778dc4c1b099a5deb9",
       "version_major": 2,
       "version_minor": 0
      },
      "text/plain": [
       "Validation: |                                                                                        | 0/? [00…"
      ]
     },
     "metadata": {},
     "output_type": "display_data"
    },
    {
     "data": {
      "application/vnd.jupyter.widget-view+json": {
       "model_id": "2c906d3e369946198bbddab9b4e5603c",
       "version_major": 2,
       "version_minor": 0
      },
      "text/plain": [
       "Validation: |                                                                                        | 0/? [00…"
      ]
     },
     "metadata": {},
     "output_type": "display_data"
    },
    {
     "data": {
      "application/vnd.jupyter.widget-view+json": {
       "model_id": "294d34048b91472fb1bde32da6676d5e",
       "version_major": 2,
       "version_minor": 0
      },
      "text/plain": [
       "Validation: |                                                                                        | 0/? [00…"
      ]
     },
     "metadata": {},
     "output_type": "display_data"
    },
    {
     "data": {
      "application/vnd.jupyter.widget-view+json": {
       "model_id": "a84508e65be8494fbb892ae46b5e8c8b",
       "version_major": 2,
       "version_minor": 0
      },
      "text/plain": [
       "Validation: |                                                                                        | 0/? [00…"
      ]
     },
     "metadata": {},
     "output_type": "display_data"
    },
    {
     "data": {
      "application/vnd.jupyter.widget-view+json": {
       "model_id": "825ea37d229e4861b77ef8be9216c85a",
       "version_major": 2,
       "version_minor": 0
      },
      "text/plain": [
       "Validation: |                                                                                        | 0/? [00…"
      ]
     },
     "metadata": {},
     "output_type": "display_data"
    },
    {
     "data": {
      "application/vnd.jupyter.widget-view+json": {
       "model_id": "0b99366522b149ba8f175e790b0846a0",
       "version_major": 2,
       "version_minor": 0
      },
      "text/plain": [
       "Validation: |                                                                                        | 0/? [00…"
      ]
     },
     "metadata": {},
     "output_type": "display_data"
    },
    {
     "data": {
      "application/vnd.jupyter.widget-view+json": {
       "model_id": "61616cbd7dd34f0b8692bc3c8ff75793",
       "version_major": 2,
       "version_minor": 0
      },
      "text/plain": [
       "Validation: |                                                                                        | 0/? [00…"
      ]
     },
     "metadata": {},
     "output_type": "display_data"
    },
    {
     "data": {
      "application/vnd.jupyter.widget-view+json": {
       "model_id": "ce536fe3d0ec4446a995a1122ffae008",
       "version_major": 2,
       "version_minor": 0
      },
      "text/plain": [
       "Validation: |                                                                                        | 0/? [00…"
      ]
     },
     "metadata": {},
     "output_type": "display_data"
    },
    {
     "data": {
      "application/vnd.jupyter.widget-view+json": {
       "model_id": "692dbbcaf90449ddb52537c90027a9fe",
       "version_major": 2,
       "version_minor": 0
      },
      "text/plain": [
       "Validation: |                                                                                        | 0/? [00…"
      ]
     },
     "metadata": {},
     "output_type": "display_data"
    },
    {
     "data": {
      "application/vnd.jupyter.widget-view+json": {
       "model_id": "f444d1af3156498bb1ca498c6ee08594",
       "version_major": 2,
       "version_minor": 0
      },
      "text/plain": [
       "Validation: |                                                                                        | 0/? [00…"
      ]
     },
     "metadata": {},
     "output_type": "display_data"
    },
    {
     "data": {
      "application/vnd.jupyter.widget-view+json": {
       "model_id": "e48c39b92c8446b1be22b39a5a4babcd",
       "version_major": 2,
       "version_minor": 0
      },
      "text/plain": [
       "Validation: |                                                                                        | 0/? [00…"
      ]
     },
     "metadata": {},
     "output_type": "display_data"
    },
    {
     "data": {
      "application/vnd.jupyter.widget-view+json": {
       "model_id": "acfdbe7fc91545baaa1e0d9ff4f11ce3",
       "version_major": 2,
       "version_minor": 0
      },
      "text/plain": [
       "Validation: |                                                                                        | 0/? [00…"
      ]
     },
     "metadata": {},
     "output_type": "display_data"
    }
   ],
   "source": [
    "iqdata = IQDataModel()\n",
    "model = AutoModClassifier()\n",
    "callbacks, mlf_logger = initialize_pl_trainer(\"frequentist_net\")\n",
    "\n",
    "trainer = pl.Trainer(callbacks=callbacks,\n",
    "                     max_epochs=100,\n",
    "                     logger=mlf_logger)\n",
    "\n",
    "trainer.fit(model, iqdata)"
   ]
  }
 ],
 "metadata": {
  "kernelspec": {
   "display_name": "Python 3 (ipykernel)",
   "language": "python",
   "name": "python3"
  },
  "language_info": {
   "codemirror_mode": {
    "name": "ipython",
    "version": 3
   },
   "file_extension": ".py",
   "mimetype": "text/x-python",
   "name": "python",
   "nbconvert_exporter": "python",
   "pygments_lexer": "ipython3",
   "version": "3.12.9"
  }
 },
 "nbformat": 4,
 "nbformat_minor": 5
}
