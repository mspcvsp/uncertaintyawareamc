{
 "cells": [
  {
   "cell_type": "code",
   "execution_count": 1,
   "id": "8ac6856a-0499-4dba-8f15-79d1cfc15631",
   "metadata": {},
   "outputs": [],
   "source": [
    "%load_ext autoreload\n",
    "%autoreload 2"
   ]
  },
  {
   "cell_type": "code",
   "execution_count": 2,
   "id": "70283d42-3853-4561-8acf-94aeea037a94",
   "metadata": {},
   "outputs": [
    {
     "ename": "ModuleNotFoundError",
     "evalue": "No module named 'bayesian_nnet.network'",
     "output_type": "error",
     "traceback": [
      "\u001b[0;31m---------------------------------------------------------------------------\u001b[0m",
      "\u001b[0;31mModuleNotFoundError\u001b[0m                       Traceback (most recent call last)",
      "Cell \u001b[0;32mIn[2], line 7\u001b[0m\n\u001b[1;32m      5\u001b[0m \u001b[38;5;28;01mfrom\u001b[39;00m \u001b[38;5;21;01mbayesian_nnet\u001b[39;00m\u001b[38;5;21;01m.\u001b[39;00m\u001b[38;5;21;01mnet_utils\u001b[39;00m \u001b[38;5;28;01mimport\u001b[39;00m initialize_pl_trainer\n\u001b[1;32m      6\u001b[0m \u001b[38;5;28;01mfrom\u001b[39;00m \u001b[38;5;21;01mbayesian_nnet\u001b[39;00m\u001b[38;5;21;01m.\u001b[39;00m\u001b[38;5;21;01mdata\u001b[39;00m \u001b[38;5;28;01mimport\u001b[39;00m IQDataModel\n\u001b[0;32m----> 7\u001b[0m \u001b[38;5;28;01mfrom\u001b[39;00m \u001b[38;5;21;01mbayesian_nnet\u001b[39;00m\u001b[38;5;21;01m.\u001b[39;00m\u001b[38;5;21;01mnetwork\u001b[39;00m \u001b[38;5;28;01mimport\u001b[39;00m AutoModClassifier\n\u001b[1;32m      8\u001b[0m \u001b[38;5;28;01mfrom\u001b[39;00m \u001b[38;5;21;01mbayesian_nnet\u001b[39;00m\u001b[38;5;21;01m.\u001b[39;00m\u001b[38;5;21;01mdata\u001b[39;00m \u001b[38;5;28;01mimport\u001b[39;00m initialize_data_splits\n\u001b[1;32m      9\u001b[0m \u001b[38;5;28;01mfrom\u001b[39;00m \u001b[38;5;21;01mbayesian_nnet\u001b[39;00m\u001b[38;5;21;01m.\u001b[39;00m\u001b[38;5;21;01mmodel_eval\u001b[39;00m \u001b[38;5;28;01mimport\u001b[39;00m init_snrid_accuracy, evaluate_model_predictions\n",
      "\u001b[0;31mModuleNotFoundError\u001b[0m: No module named 'bayesian_nnet.network'"
     ]
    }
   ],
   "source": [
    "import torch.nn as nn\n",
    "import torch\n",
    "import pandas as pd\n",
    "import pytorch_lightning as pl\n",
    "from bayesian_nnet.net_utils import initialize_pl_trainer\n",
    "from bayesian_nnet.data import IQDataModel\n",
    "from bayesian_nnet.cnnlstm import AutoModClassifier\n",
    "from bayesian_nnet.data import initialize_data_splits\n",
    "from bayesian_nnet.model_eval import init_snrid_accuracy, evaluate_model_predictions"
   ]
  },
  {
   "cell_type": "markdown",
   "id": "05bc68ee-1c71-42fa-a728-98bb64332ea0",
   "metadata": {},
   "source": [
    "### Initialize data split indexing"
   ]
  },
  {
   "cell_type": "code",
   "execution_count": 3,
   "id": "93cc2cd4-d93e-401b-a7e0-3f4656b28a2e",
   "metadata": {},
   "outputs": [],
   "source": [
    "out_of_distrib_modes = [\"lsb\",\n",
    "                        \"usb\"]\n",
    "\n",
    "initialize_data_splits(out_of_distrib_modes)"
   ]
  },
  {
   "cell_type": "code",
   "execution_count": 4,
   "id": "e9036fa0-9761-4d45-8832-ec7ef2728ff0",
   "metadata": {},
   "outputs": [
    {
     "name": "stderr",
     "output_type": "stream",
     "text": [
      "GPU available: True (cuda), used: True\n",
      "TPU available: False, using: 0 TPU cores\n",
      "HPU available: False, using: 0 HPUs\n",
      "/home/mspcvsp/anaconda3/envs/algdev/lib/python3.12/site-packages/pytorch_lightning/callbacks/model_checkpoint.py:654: Checkpoint directory /home/mspcvsp/panoradio_hf/ModelCheckpoints/frequentist_net exists and is not empty.\n",
      "LOCAL_RANK: 0 - CUDA_VISIBLE_DEVICES: [0]\n",
      "\n",
      "  | Name           | Type                  | Params | Mode \n",
      "-----------------------------------------------------------------\n",
      "0 | iq_embed       | IQDataEmbedder        | 437 K  | train\n",
      "1 | modclf         | FrequentistClassifier | 17.8 M | train\n",
      "2 | loss           | CrossEntropyLoss      | 0      | train\n",
      "3 | train_accuracy | MulticlassAccuracy    | 0      | train\n",
      "4 | val_accuracy   | MulticlassAccuracy    | 0      | train\n",
      "5 | test_accuracy  | MulticlassAccuracy    | 0      | train\n",
      "6 | softmax        | Softmax               | 0      | train\n",
      "-----------------------------------------------------------------\n",
      "18.3 M    Trainable params\n",
      "0         Non-trainable params\n",
      "18.3 M    Total params\n",
      "73.122    Total estimated model params size (MB)\n",
      "38        Modules in train mode\n",
      "0         Modules in eval mode\n"
     ]
    },
    {
     "data": {
      "application/vnd.jupyter.widget-view+json": {
       "model_id": "b4472de2ea2c4e00a8c005bc11302763",
       "version_major": 2,
       "version_minor": 0
      },
      "text/plain": [
       "Sanity Checking: |                                                                                   | 0/? [00…"
      ]
     },
     "metadata": {},
     "output_type": "display_data"
    },
    {
     "data": {
      "application/vnd.jupyter.widget-view+json": {
       "model_id": "66f6e55351b7428ab8b9c9c451df436e",
       "version_major": 2,
       "version_minor": 0
      },
      "text/plain": [
       "Training: |                                                                                          | 0/? [00…"
      ]
     },
     "metadata": {},
     "output_type": "display_data"
    },
    {
     "data": {
      "application/vnd.jupyter.widget-view+json": {
       "model_id": "6563417e104743d4b3b2f50b4afe6331",
       "version_major": 2,
       "version_minor": 0
      },
      "text/plain": [
       "Validation: |                                                                                        | 0/? [00…"
      ]
     },
     "metadata": {},
     "output_type": "display_data"
    },
    {
     "data": {
      "application/vnd.jupyter.widget-view+json": {
       "model_id": "cd50351ed5a6418ca1826494ba95941d",
       "version_major": 2,
       "version_minor": 0
      },
      "text/plain": [
       "Validation: |                                                                                        | 0/? [00…"
      ]
     },
     "metadata": {},
     "output_type": "display_data"
    },
    {
     "data": {
      "application/vnd.jupyter.widget-view+json": {
       "model_id": "d9698f78176247b1943425892f08c87a",
       "version_major": 2,
       "version_minor": 0
      },
      "text/plain": [
       "Validation: |                                                                                        | 0/? [00…"
      ]
     },
     "metadata": {},
     "output_type": "display_data"
    },
    {
     "data": {
      "application/vnd.jupyter.widget-view+json": {
       "model_id": "154c36e220bc4844ba38e67344a284ed",
       "version_major": 2,
       "version_minor": 0
      },
      "text/plain": [
       "Validation: |                                                                                        | 0/? [00…"
      ]
     },
     "metadata": {},
     "output_type": "display_data"
    },
    {
     "data": {
      "application/vnd.jupyter.widget-view+json": {
       "model_id": "9dcd13bcc95546878c7c70ea2239f926",
       "version_major": 2,
       "version_minor": 0
      },
      "text/plain": [
       "Validation: |                                                                                        | 0/? [00…"
      ]
     },
     "metadata": {},
     "output_type": "display_data"
    },
    {
     "data": {
      "application/vnd.jupyter.widget-view+json": {
       "model_id": "447eb21be8a64b08b5cdca5af50420d5",
       "version_major": 2,
       "version_minor": 0
      },
      "text/plain": [
       "Validation: |                                                                                        | 0/? [00…"
      ]
     },
     "metadata": {},
     "output_type": "display_data"
    },
    {
     "data": {
      "application/vnd.jupyter.widget-view+json": {
       "model_id": "78b544089e2748359beb28d79b534d08",
       "version_major": 2,
       "version_minor": 0
      },
      "text/plain": [
       "Validation: |                                                                                        | 0/? [00…"
      ]
     },
     "metadata": {},
     "output_type": "display_data"
    },
    {
     "data": {
      "application/vnd.jupyter.widget-view+json": {
       "model_id": "8ebffdf0c4bf47e9a0ba4b2209f805b8",
       "version_major": 2,
       "version_minor": 0
      },
      "text/plain": [
       "Validation: |                                                                                        | 0/? [00…"
      ]
     },
     "metadata": {},
     "output_type": "display_data"
    },
    {
     "data": {
      "application/vnd.jupyter.widget-view+json": {
       "model_id": "2e92dffcb37247ed98e6efa3e4abc895",
       "version_major": 2,
       "version_minor": 0
      },
      "text/plain": [
       "Validation: |                                                                                        | 0/? [00…"
      ]
     },
     "metadata": {},
     "output_type": "display_data"
    },
    {
     "data": {
      "application/vnd.jupyter.widget-view+json": {
       "model_id": "d05aa01f1e1344e7ae4159ddf1bfad03",
       "version_major": 2,
       "version_minor": 0
      },
      "text/plain": [
       "Validation: |                                                                                        | 0/? [00…"
      ]
     },
     "metadata": {},
     "output_type": "display_data"
    },
    {
     "data": {
      "application/vnd.jupyter.widget-view+json": {
       "model_id": "b9d8761b82b04a02b148070d37603da9",
       "version_major": 2,
       "version_minor": 0
      },
      "text/plain": [
       "Validation: |                                                                                        | 0/? [00…"
      ]
     },
     "metadata": {},
     "output_type": "display_data"
    },
    {
     "data": {
      "application/vnd.jupyter.widget-view+json": {
       "model_id": "3998d7d47ddf496b9feeb979d1963cb1",
       "version_major": 2,
       "version_minor": 0
      },
      "text/plain": [
       "Validation: |                                                                                        | 0/? [00…"
      ]
     },
     "metadata": {},
     "output_type": "display_data"
    },
    {
     "data": {
      "application/vnd.jupyter.widget-view+json": {
       "model_id": "726aac84f0e3444789cf77d6b4cbb021",
       "version_major": 2,
       "version_minor": 0
      },
      "text/plain": [
       "Validation: |                                                                                        | 0/? [00…"
      ]
     },
     "metadata": {},
     "output_type": "display_data"
    }
   ],
   "source": [
    "iqdata = IQDataModel(batch_size=256)\n",
    "model = AutoModClassifier()\n",
    "callbacks, mlf_logger = initialize_pl_trainer(\"frequentist_net\")\n",
    "\n",
    "trainer = pl.Trainer(callbacks=callbacks,\n",
    "                     max_epochs=100,\n",
    "                     logger=mlf_logger)\n",
    "\n",
    "trainer.fit(model, iqdata)"
   ]
  },
  {
   "cell_type": "code",
   "execution_count": 9,
   "id": "bbd181e2-e175-4bd1-9fe3-84d0a88a34a2",
   "metadata": {},
   "outputs": [
    {
     "name": "stderr",
     "output_type": "stream",
     "text": [
      "LOCAL_RANK: 0 - CUDA_VISIBLE_DEVICES: [0]\n"
     ]
    },
    {
     "data": {
      "application/vnd.jupyter.widget-view+json": {
       "model_id": "b1dbdfda3708416faa589129184d394d",
       "version_major": 2,
       "version_minor": 0
      },
      "text/plain": [
       "Predicting: |                                                                        | 0/? [00:00<?, ?it/s]"
      ]
     },
     "metadata": {},
     "output_type": "display_data"
    }
   ],
   "source": [
    "predictions = trainer.predict(model,\n",
    "                              datamodule=iqdata)"
   ]
  },
  {
   "cell_type": "code",
   "execution_count": 15,
   "id": "4dfd7c11-0e37-4685-b5ee-fdf37fd19123",
   "metadata": {},
   "outputs": [],
   "source": [
    "from bayesian_nnet.model_eval import ModelPredictionFormatter"
   ]
  },
  {
   "cell_type": "code",
   "execution_count": 32,
   "id": "59d01000-708e-4f03-807a-9ccd24682ecc",
   "metadata": {},
   "outputs": [],
   "source": [
    "pred_fmt = ModelPredictionFormatter()\n",
    "mode_conf_preds = pd.concat([pred_fmt(elem) for elem in predictions])"
   ]
  },
  {
   "cell_type": "code",
   "execution_count": 35,
   "id": "44f19e01-2015-496d-be93-71871d8af794",
   "metadata": {},
   "outputs": [
    {
     "data": {
      "text/plain": [
       "Index(['snrminus5', 'snr20', 'snr5', 'snr25', 'snr15', 'snrminus10', 'snr10',\n",
       "       'snr0'],\n",
       "      dtype='object', name='snrid')"
      ]
     },
     "execution_count": 35,
     "metadata": {},
     "output_type": "execute_result"
    }
   ],
   "source": [
    "mode_conf_preds[\"snrid\"].value_counts().keys()"
   ]
  },
  {
   "cell_type": "code",
   "execution_count": 43,
   "id": "687aeb9c-3b37-456d-a1e6-8a417e3c6244",
   "metadata": {},
   "outputs": [
    {
     "data": {
      "text/plain": [
       "snrid\n",
       "snrminus5     3175\n",
       "snr20         3119\n",
       "snr5          3111\n",
       "snr25         3076\n",
       "snr15         3065\n",
       "snrminus10    3032\n",
       "snr10         3012\n",
       "snr0          2987\n",
       "Name: count, dtype: int64"
      ]
     },
     "execution_count": 43,
     "metadata": {},
     "output_type": "execute_result"
    }
   ],
   "source": [
    "iqdata.validation.data_tags[\"snrid\"].value_counts()"
   ]
  }
 ],
 "metadata": {
  "kernelspec": {
   "display_name": "Python 3 (ipykernel)",
   "language": "python",
   "name": "python3"
  },
  "language_info": {
   "codemirror_mode": {
    "name": "ipython",
    "version": 3
   },
   "file_extension": ".py",
   "mimetype": "text/x-python",
   "name": "python",
   "nbconvert_exporter": "python",
   "pygments_lexer": "ipython3",
   "version": "3.12.9"
  }
 },
 "nbformat": 4,
 "nbformat_minor": 5
}
