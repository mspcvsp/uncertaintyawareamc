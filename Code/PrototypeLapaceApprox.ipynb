{
 "cells": [
  {
   "cell_type": "code",
   "execution_count": 1,
   "id": "5ca29aa5-0f49-4b1d-9ed7-add0761ea02c",
   "metadata": {},
   "outputs": [],
   "source": [
    "%load_ext autoreload\n",
    "%autoreload 2"
   ]
  },
  {
   "cell_type": "code",
   "execution_count": 6,
   "id": "c98905c6-77e6-449f-97fd-9469561399fd",
   "metadata": {},
   "outputs": [],
   "source": [
    "import torch.nn as nn\n",
    "import torch\n",
    "import pandas as pd\n",
    "from bayesian_nnet.data import get_num_clases\n",
    "import pytorch_lightning as pl\n",
    "from bayesian_nnet.net_utils import initialize_pl_trainer, get_model_checkpoint_dir\n",
    "from bayesian_nnet.data import IQDataModel\n",
    "from bayesian_nnet.cnnlstm import IQDataEmbedder, FrequentistClassifier\n",
    "from collections import OrderedDict\n",
    "from bayesian_nnet.model_eval import init_snrid_accuracy, evaluate_model_predictions"
   ]
  },
  {
   "cell_type": "code",
   "execution_count": 24,
   "id": "2283a9d1-bf39-4060-a985-7e0229c7ffdd",
   "metadata": {},
   "outputs": [],
   "source": [
    "checkpoint_file = \"epoch=24-val_loss=0.00-other_metric=0.00.ckpt\""
   ]
  },
  {
   "cell_type": "code",
   "execution_count": 7,
   "id": "742e079f-dadb-4d37-ba40-b3de27fd0967",
   "metadata": {},
   "outputs": [],
   "source": [
    "iqdata_embed = IQDataEmbedder()"
   ]
  },
  {
   "cell_type": "code",
   "execution_count": 27,
   "id": "e3eb663f-845e-4145-a2e3-57b462f190d1",
   "metadata": {},
   "outputs": [],
   "source": [
    "model_checkpoint = ModelCheckpoint(\"frequentist_net\",\n",
    "                                   checkpoint_file)"
   ]
  },
  {
   "cell_type": "code",
   "execution_count": 28,
   "id": "9987ab42-8756-4e78-adcf-f6f524719312",
   "metadata": {},
   "outputs": [],
   "source": [
    "state_dict = model_checkpoint.get_subnet_state_dict(\"iqdata_embed\")"
   ]
  },
  {
   "cell_type": "code",
   "execution_count": 29,
   "id": "eeaa25e4-c38b-4fc5-8e5b-d94d55d37892",
   "metadata": {},
   "outputs": [
    {
     "data": {
      "text/plain": [
       "IQDataEmbedder(\n",
       "  (conv1): Sequential(\n",
       "    (0): Conv1d(2, 64, kernel_size=(3,), stride=(1,), padding=(1,))\n",
       "    (1): BatchNorm1d(64, eps=1e-05, momentum=0.1, affine=True, track_running_stats=True)\n",
       "    (2): ReLU()\n",
       "    (3): MaxPool1d(kernel_size=3, stride=2, padding=1, dilation=1, ceil_mode=False)\n",
       "    (4): Dropout1d(p=0.1, inplace=True)\n",
       "  )\n",
       "  (conv2): Sequential(\n",
       "    (0): Conv1d(64, 64, kernel_size=(3,), stride=(1,), padding=(1,))\n",
       "    (1): BatchNorm1d(64, eps=1e-05, momentum=0.1, affine=True, track_running_stats=True)\n",
       "    (2): ReLU()\n",
       "    (3): MaxPool1d(kernel_size=3, stride=2, padding=1, dilation=1, ceil_mode=False)\n",
       "    (4): Dropout1d(p=0.1, inplace=True)\n",
       "  )\n",
       "  (conv3): Sequential(\n",
       "    (0): Conv1d(64, 128, kernel_size=(3,), stride=(1,), padding=(1,))\n",
       "    (1): BatchNorm1d(128, eps=1e-05, momentum=0.1, affine=True, track_running_stats=True)\n",
       "    (2): ReLU()\n",
       "    (3): MaxPool1d(kernel_size=3, stride=2, padding=1, dilation=1, ceil_mode=False)\n",
       "    (4): Dropout1d(p=0.1, inplace=True)\n",
       "  )\n",
       "  (conv4): Sequential(\n",
       "    (0): Conv1d(128, 128, kernel_size=(3,), stride=(1,), padding=(1,))\n",
       "    (1): BatchNorm1d(128, eps=1e-05, momentum=0.1, affine=True, track_running_stats=True)\n",
       "    (2): ReLU()\n",
       "    (3): MaxPool1d(kernel_size=3, stride=2, padding=1, dilation=1, ceil_mode=False)\n",
       "    (4): Dropout1d(p=0.1, inplace=True)\n",
       "  )\n",
       "  (conv5): Sequential(\n",
       "    (0): Conv1d(128, 256, kernel_size=(3,), stride=(1,), padding=(1,))\n",
       "    (1): BatchNorm1d(256, eps=1e-05, momentum=0.1, affine=True, track_running_stats=True)\n",
       "    (2): ReLU()\n",
       "    (3): MaxPool1d(kernel_size=3, stride=2, padding=1, dilation=1, ceil_mode=False)\n",
       "    (4): Dropout1d(p=0.1, inplace=True)\n",
       "  )\n",
       "  (conv6): Sequential(\n",
       "    (0): Conv1d(256, 256, kernel_size=(3,), stride=(1,), padding=(1,))\n",
       "    (1): BatchNorm1d(256, eps=1e-05, momentum=0.1, affine=True, track_running_stats=True)\n",
       "    (2): ReLU()\n",
       "    (3): MaxPool1d(kernel_size=3, stride=2, padding=1, dilation=1, ceil_mode=False)\n",
       "    (4): Dropout1d(p=0.1, inplace=True)\n",
       "  )\n",
       "  (lstm): LSTM(256, 128, num_layers=2, batch_first=True)\n",
       ")"
      ]
     },
     "execution_count": 29,
     "metadata": {},
     "output_type": "execute_result"
    }
   ],
   "source": [
    "iqdata_embed.eval()"
   ]
  }
 ],
 "metadata": {
  "kernelspec": {
   "display_name": "Python 3 (ipykernel)",
   "language": "python",
   "name": "python3"
  },
  "language_info": {
   "codemirror_mode": {
    "name": "ipython",
    "version": 3
   },
   "file_extension": ".py",
   "mimetype": "text/x-python",
   "name": "python",
   "nbconvert_exporter": "python",
   "pygments_lexer": "ipython3",
   "version": "3.12.9"
  }
 },
 "nbformat": 4,
 "nbformat_minor": 5
}
