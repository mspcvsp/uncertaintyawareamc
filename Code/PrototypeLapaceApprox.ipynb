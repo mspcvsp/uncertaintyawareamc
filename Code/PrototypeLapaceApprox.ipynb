{
 "cells": [
  {
   "cell_type": "code",
   "execution_count": 1,
   "id": "5ca29aa5-0f49-4b1d-9ed7-add0761ea02c",
   "metadata": {},
   "outputs": [],
   "source": [
    "%load_ext autoreload\n",
    "%autoreload 2"
   ]
  },
  {
   "cell_type": "code",
   "execution_count": 6,
   "id": "c98905c6-77e6-449f-97fd-9469561399fd",
   "metadata": {},
   "outputs": [],
   "source": [
    "import torch.nn as nn\n",
    "import torch\n",
    "import pandas as pd\n",
    "from bayesian_nnet.data import get_num_clases\n",
    "import pytorch_lightning as pl\n",
    "from bayesian_nnet.net_utils import initialize_pl_trainer, get_model_checkpoint_dir\n",
    "from bayesian_nnet.data import IQDataModel\n",
    "from bayesian_nnet.cnnlstm import IQDataEmbedder, FrequentistClassifier\n",
    "from collections import OrderedDict\n",
    "from bayesian_nnet.model_eval import init_snrid_accuracy, evaluate_model_predictions"
   ]
  },
  {
   "cell_type": "code",
   "execution_count": 24,
   "id": "2283a9d1-bf39-4060-a985-7e0229c7ffdd",
   "metadata": {},
   "outputs": [],
   "source": [
    "checkpoint_file = \"epoch=24-val_loss=0.00-other_metric=0.00.ckpt\""
   ]
  },
  {
   "cell_type": "code",
   "execution_count": 7,
   "id": "742e079f-dadb-4d37-ba40-b3de27fd0967",
   "metadata": {},
   "outputs": [],
   "source": [
    "iqdata_embed = IQDataEmbedder()"
   ]
  },
  {
   "cell_type": "code",
   "execution_count": 20,
   "id": "61d0b631-87b7-4d8d-9b97-fbd94bf7777b",
   "metadata": {},
   "outputs": [],
   "source": []
  },
  {
   "cell_type": "code",
   "execution_count": 27,
   "id": "e3eb663f-845e-4145-a2e3-57b462f190d1",
   "metadata": {},
   "outputs": [],
   "source": [
    "model_checkpoint = ModelCheckpoint(\"frequentist_net\",\n",
    "                                   checkpoint_file)"
   ]
  },
  {
   "cell_type": "code",
   "execution_count": 28,
   "id": "9987ab42-8756-4e78-adcf-f6f524719312",
   "metadata": {},
   "outputs": [],
   "source": [
    "state_dict = model_checkpoint.get_subnet_state_dict(\"iqdata_embed\")"
   ]
  },
  {
   "cell_type": "code",
   "execution_count": null,
   "id": "eeaa25e4-c38b-4fc5-8e5b-d94d55d37892",
   "metadata": {},
   "outputs": [],
   "source": []
  }
 ],
 "metadata": {
  "kernelspec": {
   "display_name": "Python 3 (ipykernel)",
   "language": "python",
   "name": "python3"
  },
  "language_info": {
   "codemirror_mode": {
    "name": "ipython",
    "version": 3
   },
   "file_extension": ".py",
   "mimetype": "text/x-python",
   "name": "python",
   "nbconvert_exporter": "python",
   "pygments_lexer": "ipython3",
   "version": "3.12.9"
  }
 },
 "nbformat": 4,
 "nbformat_minor": 5
}
