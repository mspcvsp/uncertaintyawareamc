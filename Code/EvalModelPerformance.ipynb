{
 "cells": [
  {
   "cell_type": "code",
   "execution_count": 46,
   "id": "2b62b3f8-6a55-4a95-8782-6ba114f1af45",
   "metadata": {},
   "outputs": [
    {
     "name": "stdout",
     "output_type": "stream",
     "text": [
      "The autoreload extension is already loaded. To reload it, use:\n",
      "  %reload_ext autoreload\n"
     ]
    }
   ],
   "source": [
    "%load_ext autoreload\n",
    "%autoreload 2"
   ]
  },
  {
   "cell_type": "code",
   "execution_count": 56,
   "id": "c0d25239-256b-4d86-a23d-f023e23da6b9",
   "metadata": {},
   "outputs": [],
   "source": [
    "import torch.nn as nn\n",
    "import torch\n",
    "import pandas as pd\n",
    "from bayesian_nnet.data import get_num_clases\n",
    "import pytorch_lightning as pl\n",
    "from bayesian_nnet.net_utils import initialize_pl_trainer, get_model_checkpoint_dir\n",
    "from bayesian_nnet.data import IQDataModel\n",
    "from bayesian_nnet.cnnlstm import AutoModClassifier\n",
    "from bayesian_nnet.model_eval import init_snrid_accuracy, evaluate_model_predictions"
   ]
  },
  {
   "cell_type": "code",
   "execution_count": 48,
   "id": "1f87975b-b85b-4c9b-a17f-c52b9b8b6916",
   "metadata": {},
   "outputs": [
    {
     "name": "stderr",
     "output_type": "stream",
     "text": [
      "GPU available: True (cuda), used: True\n",
      "TPU available: False, using: 0 TPU cores\n",
      "HPU available: False, using: 0 HPUs\n",
      "LOCAL_RANK: 0 - CUDA_VISIBLE_DEVICES: [0]\n"
     ]
    },
    {
     "data": {
      "application/vnd.jupyter.widget-view+json": {
       "model_id": "f2c096cbc34f46f5bd221c31bbb76b45",
       "version_major": 2,
       "version_minor": 0
      },
      "text/plain": [
       "Predicting: |                                                                        | 0/? [00:00<?, ?it/s]"
      ]
     },
     "metadata": {},
     "output_type": "display_data"
    }
   ],
   "source": [
    "checkpoint_file = \"epoch=24-val_loss=0.00-other_metric=0.00.ckpt\"\n",
    "\n",
    "checkpoint_pth =\\\n",
    "    get_model_checkpoint_dir(\"frequentist_net\").joinpath(checkpoint_file)\n",
    "\n",
    "model = AutoModClassifier.load_from_checkpoint(checkpoint_pth)\n",
    "trainer = pl.Trainer()\n",
    "iqdata = IQDataModel(batch_size=256)\n",
    "\n",
    "predictions = trainer.predict(model,\n",
    "                              datamodule=iqdata)"
   ]
  },
  {
   "cell_type": "code",
   "execution_count": 49,
   "id": "58df49fb-e5cd-4133-aa8d-2d4942456e71",
   "metadata": {},
   "outputs": [],
   "source": [
    "from bayesian_nnet.model_eval import ModelPredictionFormatter\n",
    "from sklearn.metrics import classification_report, confusion_matrix\n",
    "pred_fmt = ModelPredictionFormatter()\n",
    "mode_conf_preds = pd.concat([pred_fmt(elem) for elem in predictions])"
   ]
  },
  {
   "cell_type": "code",
   "execution_count": 57,
   "id": "62ca0c3a-2618-4c9b-a5c6-8f042ce03a2d",
   "metadata": {},
   "outputs": [],
   "source": [
    "snrid_clf_report = dict()\n",
    "snrid_conf_mat = dict()\n",
    "modeids = list(mode_conf_preds.columns[:get_num_clases()])\n",
    "\n",
    "for snrid in mode_conf_preds[\"snrid\"].value_counts().keys():\n",
    "\n",
    "    select_row = mode_conf_preds[\"snrid\"] == snrid\n",
    "\n",
    "    truemodeid =\\\n",
    "        mode_conf_preds.loc[select_row, \"truemodeid\"].values\n",
    "\n",
    "    predictedmodeid =\\\n",
    "        mode_conf_preds.loc[select_row, \"predictedmodeid\"].values\n",
    "\n",
    "    snrid_clf_report[snrid] =\\\n",
    "        classification_report(truemodeid,\n",
    "                              predictedmodeid,\n",
    "                              zero_division=0,\n",
    "                              output_dict=True)\n",
    "\n",
    "    cur_conf_mat =\\\n",
    "        confusion_matrix(truemodeid,\n",
    "                         predictedmodeid,\n",
    "                         normalize=\"true\")\n",
    "\n",
    "    snrid_conf_mat[snrid] =\\\n",
    "        pd.DataFrame(cur_conf_mat,\n",
    "                     index=modeids,\n",
    "                     columns=modeids)"
   ]
  },
  {
   "cell_type": "code",
   "execution_count": 60,
   "id": "912373dd-b729-421c-8dd7-041ff8e6b8a8",
   "metadata": {},
   "outputs": [
    {
     "data": {
      "text/plain": [
       "{'snrminus5': 0.8333858267716535,\n",
       " 'snr20': 0.9378005771080474,\n",
       " 'snr5': 0.9222115075538412,\n",
       " 'snr25': 0.9460338101430429,\n",
       " 'snr15': 0.9429037520391517,\n",
       " 'snrminus10': 0.6104881266490765,\n",
       " 'snr10': 0.9359229747675962,\n",
       " 'snr0': 0.9072648141948443}"
      ]
     },
     "execution_count": 60,
     "metadata": {},
     "output_type": "execute_result"
    }
   ],
   "source": [
    "{snrid:snrid_clf_report[snrid][\"accuracy\"]\n",
    " for snrid in snrid_clf_report.keys()}"
   ]
  }
 ],
 "metadata": {
  "kernelspec": {
   "display_name": "Python 3 (ipykernel)",
   "language": "python",
   "name": "python3"
  },
  "language_info": {
   "codemirror_mode": {
    "name": "ipython",
    "version": 3
   },
   "file_extension": ".py",
   "mimetype": "text/x-python",
   "name": "python",
   "nbconvert_exporter": "python",
   "pygments_lexer": "ipython3",
   "version": "3.12.9"
  }
 },
 "nbformat": 4,
 "nbformat_minor": 5
}
